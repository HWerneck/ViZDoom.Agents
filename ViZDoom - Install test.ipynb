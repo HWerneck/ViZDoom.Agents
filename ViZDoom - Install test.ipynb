{
  "nbformat": 4,
  "nbformat_minor": 0,
  "metadata": {
    "colab": {
      "provenance": []
    },
    "kernelspec": {
      "name": "python3",
      "display_name": "Python 3"
    }
  },
  "cells": [
    {
      "cell_type": "markdown",
      "metadata": {
        "id": "eLLq4MdFlmVH"
      },
      "source": [
        "#1. Mounting Google Drive\n",
        "\n",
        "This allows the notebook to import/export data from files inside Google Drive."
      ]
    },
    {
      "cell_type": "code",
      "metadata": {
        "id": "1aIOgPIriybd"
      },
      "source": [
        "from google.colab import drive\n",
        "drive.mount('/content/drive')"
      ],
      "execution_count": null,
      "outputs": []
    },
    {
      "cell_type": "markdown",
      "metadata": {
        "id": "lnZBt5fumN19"
      },
      "source": [
        "#2. Installing ViZDoom\n",
        "\n",
        "ViZDoom is the platform used to train the agents.\n",
        "Here, the dependencies are installed, and then ViZDoom itself."
      ]
    },
    {
      "cell_type": "code",
      "metadata": {
        "id": "Y94hUt7CWUIn"
      },
      "source": [
        "%%bash\n",
        "# Install deps from\n",
        "# https://github.com/mwydmuch/ViZDoom/blob/master/doc/Building.md#-linux\n",
        "apt update\n",
        "apt upgrade\n",
        "\n",
        "apt install build-essential zlib1g-dev libsdl2-dev libjpeg-dev nasm tar libbz2-dev libgtk2.0-dev \\\n",
        "cmake git libfluidsynth-dev libgme-dev libopenal-dev timidity libwildmidi-dev unzip\n",
        "\n",
        "# Boost libraries\n",
        "apt install libboost-all-dev\n",
        "\n",
        "# Lua binding dependencies\n",
        "apt install liblua5.1-dev\n",
        "\n",
        "apt update\n",
        "apt upgrade"
      ],
      "execution_count": null,
      "outputs": []
    },
    {
      "cell_type": "code",
      "metadata": {
        "id": "rj_eC0HQYnqU"
      },
      "source": [
        "!pip install git+https://github.com/mwydmuch/ViZDoom"
      ],
      "execution_count": null,
      "outputs": []
    },
    {
      "cell_type": "markdown",
      "metadata": {
        "id": "WBUBVJ6sm5ml"
      },
      "source": [
        "#3. Importing libraries\n",
        "\n",
        "Relevant libraries to the agent and its training are imported here."
      ]
    },
    {
      "cell_type": "code",
      "metadata": {
        "id": "LrgDTedUNYA1"
      },
      "source": [
        "from vizdoom import *\n",
        "#import vizdoom\n",
        "import numpy as np\n",
        "import pandas as pd\n",
        "\n",
        "import time\n",
        "import random"
      ],
      "execution_count": null,
      "outputs": []
    },
    {
      "cell_type": "code",
      "metadata": {
        "id": "MEXepJW2dX7W"
      },
      "source": [
        "#This ignores all warning messages that are normally displayed during training because of skimage\n",
        "import warnings\n",
        "warnings.filterwarnings('ignore')"
      ],
      "execution_count": null,
      "outputs": []
    },
    {
      "cell_type": "markdown",
      "metadata": {
        "id": "9SUhSw-JoQ-X"
      },
      "source": [
        "#4. Create environment function\n",
        "\n",
        "This function creates the environment and starts the game.\n",
        "It returns an instance of the game and the list of possible actions."
      ]
    },
    {
      "cell_type": "code",
      "metadata": {
        "id": "cpIhro0LdaiO"
      },
      "source": [
        "#Function that creates the environment, sets configuration, map and possible actions\n",
        "#Input: Nothing\n",
        "#Output: Game instance, list of possible actions\n",
        "def create_environment():\n",
        "    #New game instance\n",
        "    game = DoomGame()\n",
        "\n",
        "    #Adjust configuration file path\n",
        "    #game.load_config(\"/home/werneck/Desktop/ViZDoom/agents/DQN/DQN_configuration.cfg\")\n",
        "    game.load_config('/content/drive/My Drive/ViZDoom/Config/random_configuration.cfg')\n",
        "\n",
        "    #Adjust game scenario path\n",
        "    #game.set_doom_scenario_path(\"/home/werneck/Desktop/ViZDoom/scenarios/basic.wad\")\n",
        "    game.set_doom_scenario_path('/content/drive/My Drive/ViZDoom/Maps/basic.wad')\n",
        "\n",
        "    #Google Colab does not support the video output of ViZDoom. The following line is needed for the environment to be run.\n",
        "    game.set_window_visible(False)\n",
        "\n",
        "    #Game starts, no more configurations\n",
        "    game.init()\n",
        "\n",
        "    #Possible Actions\n",
        "    #idle = [0, 0, 0, 1]\n",
        "    left = [1, 0, 0]\n",
        "    right = [0, 1, 0]\n",
        "    shoot = [0, 0, 1]\n",
        "    possible_actions = [left, right, shoot]\n",
        "\n",
        "    return game, possible_actions"
      ],
      "execution_count": null,
      "outputs": []
    },
    {
      "cell_type": "markdown",
      "metadata": {
        "id": "ZByZ5h4V6R-_"
      },
      "source": [
        "#5. Create the data frame\n",
        "\n",
        "The data frame will hold information regarding the experiments.\n",
        "\n",
        "Data exported to files (like .csv files, for example) are stored in data frames."
      ]
    },
    {
      "cell_type": "code",
      "metadata": {
        "id": "5cto4e18jgYh"
      },
      "source": [
        "#DataFrame to hold training/testing data\n",
        "df = pd.DataFrame(columns = ['Episode', 'Steps', 'Reward'])"
      ],
      "execution_count": null,
      "outputs": []
    },
    {
      "cell_type": "markdown",
      "metadata": {
        "id": "ExrbOIXV7QC9"
      },
      "source": [
        "#5. Instantiate the game and set some parameters\n",
        "\n",
        "Instantiate the game.\n",
        "\n",
        "Set number of episodes and the maximum steps per episode.\n",
        "Render the game (even if offscreen)."
      ]
    },
    {
      "cell_type": "code",
      "metadata": {
        "id": "EgNQQhuVjhj2"
      },
      "source": [
        "#Game creation call\n",
        "game, possible_actions = create_environment()"
      ],
      "execution_count": null,
      "outputs": []
    },
    {
      "cell_type": "code",
      "metadata": {
        "id": "qCkpENPVjh5z"
      },
      "source": [
        "### TRAINING HYPERPARAMETERS\n",
        "episodes = 50                   #Total episodes for training\n",
        "max_steps = 100                 #Max possible steps in an episode"
      ],
      "execution_count": null,
      "outputs": []
    },
    {
      "cell_type": "code",
      "metadata": {
        "id": "ikUzXmtg0DwC"
      },
      "source": [
        "# Turm this to False if you do not want to render the environment\n",
        "episode_render = True"
      ],
      "execution_count": null,
      "outputs": []
    },
    {
      "cell_type": "markdown",
      "metadata": {
        "id": "a2JmOPvP8CYl"
      },
      "source": [
        "#6. General play loop\n",
        "\n",
        "This starts the play loop for as many times as there are episodes.\n",
        "\n",
        "Episode data is saved to a temporary data frame, and then appended to the main data frame."
      ]
    },
    {
      "cell_type": "code",
      "metadata": {
        "id": "ZRzeJdSK0ERl"
      },
      "source": [
        "for episode in range(episodes):\n",
        "    game.new_episode()\n",
        "    step = 0\n",
        "    while not game.is_episode_finished():\n",
        "        state = game.get_state()\n",
        "        img = state.screen_buffer\n",
        "        #misc = state.get_variables\n",
        "        action = random.choice(possible_actions)\n",
        "        reward = game.make_action(action)\n",
        "        step += 1\n",
        "        if (step == max_steps):\n",
        "            break\n",
        "    total_reward = game.get_total_reward()\n",
        "    df_e = pd.DataFrame([[(episode+1), step, game.get_total_reward()]],\n",
        "                        columns = ['Episode', 'Steps', 'Reward'])\n",
        "    df = df.append(df_e, ignore_index = True)\n",
        "    print (\"Episode:\", (episode+1), \"Steps: \", step, \"Result: \", total_reward)"
      ],
      "execution_count": null,
      "outputs": []
    },
    {
      "cell_type": "markdown",
      "metadata": {
        "id": "CsWj0lKwBCJp"
      },
      "source": [
        "#7. Ending the experiment\n",
        "\n",
        "After all episodes are run, the instance of the game is closed.\n",
        "\n",
        "A path is given for an output file, and then the information is exported from the data frame to the output file."
      ]
    },
    {
      "cell_type": "code",
      "metadata": {
        "id": "GwoETvL50Efj"
      },
      "source": [
        "game.close()\n",
        "path = \"/content/drive/My Drive/ViZDoom/Data/Random/test.csv\"\n",
        "df.to_csv(path, index = False)"
      ],
      "execution_count": null,
      "outputs": []
    }
  ]
}